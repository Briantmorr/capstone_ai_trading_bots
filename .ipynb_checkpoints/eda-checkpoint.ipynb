{
 "cells": [
  {
   "cell_type": "code",
   "execution_count": null,
   "metadata": {},
   "outputs": [],
   "source": [
    "def get_historical_data(self, symbol, days=50):\n",
    "    \"\"\"Fetch historical stock data.\"\"\"\n",
    "    end = datetime.now()\n",
    "    start = end - timedelta(days=days)\n",
    "    \n",
    "    request_params = StockBarsRequest(\n",
    "        symbol_or_symbols=symbol,\n",
    "        timeframe=self.timeframe,\n",
    "        start=start,\n",
    "        end=end\n",
    "    )\n",
    "    \n",
    "    bars = self.data_client.get_stock_bars(request_params)\n",
    "    df = bars.df\n",
    "    if df.empty:\n",
    "        logger.warning(f\"No data found for {symbol}\")\n",
    "        return None\n",
    "        \n",
    "    # Reset index to make timestamp a column and sort\n",
    "    df = df.reset_index()\n",
    "    df = df.sort_values(by=[\"timestamp\"])\n",
    "    \n",
    "    logger.info(f\"Retrieved {len(df)} bars for {symbol}\")\n",
    "    return df"
   ]
  }
 ],
 "metadata": {
  "language_info": {
   "name": "python"
  }
 },
 "nbformat": 4,
 "nbformat_minor": 2
}
