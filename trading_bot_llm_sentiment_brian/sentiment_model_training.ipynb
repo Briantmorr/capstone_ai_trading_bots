{
 "cells": [
  {
   "cell_type": "markdown",
   "metadata": {},
   "source": [
    "# Sentiment-Based Trading Model Training\n",
    "\n",
    "This notebook trains a neural network model that incorporates news sentiment as a feature for predicting stock price movements."
   ]
  },
  {
   "cell_type": "markdown",
   "metadata": {},
   "source": [
    "## Data collection"
   ]
  },
  {
   "cell_type": "code",
   "execution_count": 48,
   "metadata": {},
   "outputs": [],
   "source": [
    "import os\n",
    "import sys\n",
    "from dotenv import load_dotenv\n",
    "import pandas as pd\n",
    "import numpy as np\n",
    "import matplotlib.pyplot as plt\n",
    "from datetime import datetime, timedelta\n",
    "from pathlib import Path\n",
    "from tqdm.notebook import tqdm\n",
    "import pickle\n",
    "from alpaca.data.historical import StockHistoricalDataClient\n",
    "from alpaca.data.requests import StockBarsRequest, StockLatestQuoteRequest\n",
    "from sklearn.preprocessing import MinMaxScaler\n",
    "from tensorflow.keras.models import Sequential\n",
    "from tensorflow.keras.layers import LSTM, Dense\n",
    "from tensorflow.keras.callbacks import EarlyStopping\n",
    "\n",
    "from sklearn.model_selection import train_test_split\n",
    "from sklearn.preprocessing import StandardScaler\n",
    "import tensorflow as tf\n",
    "from tensorflow.keras.models import Sequential\n",
    "from tensorflow.keras.layers import Dense, LSTM, Dropout\n",
    "import time\n",
    "\n",
    "from trading_bot_llm_sentiment_brian import TradingBotLLMSentiment\n",
    "from tensorflow.keras.regularizers import l2\n"
   ]
  },
  {
   "cell_type": "code",
   "execution_count": 3,
   "metadata": {},
   "outputs": [
    {
     "name": "stdout",
     "output_type": "stream",
     "text": [
      "2025-04-07 18:08:07,225 - trading_bot_llm_sentiment_brian - INFO - Trading bot trading_bot_llm_sentiment_brian initialized with symbols: ['AAPL', 'MSFT', 'META', 'GOOGL', 'AMZN', 'NVDA']\n",
      "Bot initialized with symbols: ['AAPL', 'MSFT', 'META', 'GOOGL', 'AMZN', 'NVDA']\n"
     ]
    }
   ],
   "source": [
    "load_dotenv()\n",
    "\n",
    "# Set seeds for reproducibility\n",
    "np.random.seed(42)\n",
    "tf.random.set_seed(42)\n",
    "\n",
    "# Initialize the trading bot to use its data collection methods\n",
    "bot = TradingBotLLMSentiment()\n",
    "print(f\"Bot initialized with symbols: {bot.symbols}\")\n",
    "\n",
    "# Create data directory if it doesn't exist\n",
    "os.makedirs('data', exist_ok=True)"
   ]
  },
  {
   "cell_type": "code",
   "execution_count": null,
   "metadata": {},
   "outputs": [],
   "source": [
    "days=365\n",
    "symbols = ['AAPL', 'MSFT', 'META', 'GOOGL', 'AMZN', 'NVDA']\n",
    "\n",
    "symbol = 'AAPL'\n",
    "filename = 'combined_historical_with_daily_sentiment.csv'"
   ]
  },
  {
   "cell_type": "code",
   "execution_count": 2,
   "metadata": {},
   "outputs": [],
   "source": [
    "api_key = os.environ['ALPACA_API_KEY']\n",
    "api_secret = os.environ['ALPACA_API_SECRET']\n",
    "data_client = StockHistoricalDataClient(api_key, api_secret)"
   ]
  },
  {
   "cell_type": "code",
   "execution_count": 31,
   "metadata": {},
   "outputs": [
    {
     "name": "stdout",
     "output_type": "stream",
     "text": [
      "2025-03-27 21:29:53,934 - trading_bot_llm_sentiment_brian - INFO - Retrieved 250 bars for AAPL\n"
     ]
    }
   ],
   "source": [
    "df = bot.get_historical_data(symbol, days=days)"
   ]
  },
  {
   "cell_type": "code",
   "execution_count": 48,
   "metadata": {},
   "outputs": [
    {
     "data": {
      "text/html": [
       "<div>\n",
       "<style scoped>\n",
       "    .dataframe tbody tr th:only-of-type {\n",
       "        vertical-align: middle;\n",
       "    }\n",
       "\n",
       "    .dataframe tbody tr th {\n",
       "        vertical-align: top;\n",
       "    }\n",
       "\n",
       "    .dataframe thead th {\n",
       "        text-align: right;\n",
       "    }\n",
       "</style>\n",
       "<table border=\"1\" class=\"dataframe\">\n",
       "  <thead>\n",
       "    <tr style=\"text-align: right;\">\n",
       "      <th></th>\n",
       "      <th>symbol</th>\n",
       "      <th>timestamp</th>\n",
       "      <th>open</th>\n",
       "      <th>high</th>\n",
       "      <th>low</th>\n",
       "      <th>close</th>\n",
       "      <th>volume</th>\n",
       "      <th>trade_count</th>\n",
       "      <th>vwap</th>\n",
       "    </tr>\n",
       "  </thead>\n",
       "  <tbody>\n",
       "    <tr>\n",
       "      <th>0</th>\n",
       "      <td>AAPL</td>\n",
       "      <td>2025-03-17 04:00:00+00:00</td>\n",
       "      <td>213.31</td>\n",
       "      <td>215.2200</td>\n",
       "      <td>209.97</td>\n",
       "      <td>214.00</td>\n",
       "      <td>48073426.0</td>\n",
       "      <td>577436.0</td>\n",
       "      <td>213.202242</td>\n",
       "    </tr>\n",
       "    <tr>\n",
       "      <th>1</th>\n",
       "      <td>AAPL</td>\n",
       "      <td>2025-03-18 04:00:00+00:00</td>\n",
       "      <td>214.16</td>\n",
       "      <td>215.1500</td>\n",
       "      <td>211.49</td>\n",
       "      <td>212.69</td>\n",
       "      <td>42432426.0</td>\n",
       "      <td>493004.0</td>\n",
       "      <td>213.109470</td>\n",
       "    </tr>\n",
       "    <tr>\n",
       "      <th>2</th>\n",
       "      <td>AAPL</td>\n",
       "      <td>2025-03-19 04:00:00+00:00</td>\n",
       "      <td>214.22</td>\n",
       "      <td>218.7600</td>\n",
       "      <td>213.75</td>\n",
       "      <td>215.24</td>\n",
       "      <td>54385391.0</td>\n",
       "      <td>524678.0</td>\n",
       "      <td>215.609629</td>\n",
       "    </tr>\n",
       "    <tr>\n",
       "      <th>3</th>\n",
       "      <td>AAPL</td>\n",
       "      <td>2025-03-20 04:00:00+00:00</td>\n",
       "      <td>213.99</td>\n",
       "      <td>217.4899</td>\n",
       "      <td>212.22</td>\n",
       "      <td>214.10</td>\n",
       "      <td>48862947.0</td>\n",
       "      <td>499769.0</td>\n",
       "      <td>214.396693</td>\n",
       "    </tr>\n",
       "    <tr>\n",
       "      <th>4</th>\n",
       "      <td>AAPL</td>\n",
       "      <td>2025-03-21 04:00:00+00:00</td>\n",
       "      <td>211.56</td>\n",
       "      <td>218.8400</td>\n",
       "      <td>211.28</td>\n",
       "      <td>218.27</td>\n",
       "      <td>94127768.0</td>\n",
       "      <td>496948.0</td>\n",
       "      <td>215.734078</td>\n",
       "    </tr>\n",
       "  </tbody>\n",
       "</table>\n",
       "</div>"
      ],
      "text/plain": [
       "  symbol                 timestamp    open      high     low   close  \\\n",
       "0   AAPL 2025-03-17 04:00:00+00:00  213.31  215.2200  209.97  214.00   \n",
       "1   AAPL 2025-03-18 04:00:00+00:00  214.16  215.1500  211.49  212.69   \n",
       "2   AAPL 2025-03-19 04:00:00+00:00  214.22  218.7600  213.75  215.24   \n",
       "3   AAPL 2025-03-20 04:00:00+00:00  213.99  217.4899  212.22  214.10   \n",
       "4   AAPL 2025-03-21 04:00:00+00:00  211.56  218.8400  211.28  218.27   \n",
       "\n",
       "       volume  trade_count        vwap  \n",
       "0  48073426.0     577436.0  213.202242  \n",
       "1  42432426.0     493004.0  213.109470  \n",
       "2  54385391.0     524678.0  215.609629  \n",
       "3  48862947.0     499769.0  214.396693  \n",
       "4  94127768.0     496948.0  215.734078  "
      ]
     },
     "execution_count": 48,
     "metadata": {},
     "output_type": "execute_result"
    }
   ],
   "source": [
    "df.head()"
   ]
  },
  {
   "cell_type": "code",
   "execution_count": 5,
   "metadata": {},
   "outputs": [],
   "source": [
    "def collect_historical_data_with_daily_sentiment(symbol, days=365):\n",
    "    \"\"\"\n",
    "    Collect historical price data and daily sentiment data for a given symbol.\n",
    "    \n",
    "    Args:\n",
    "        symbol (str): Stock symbol.\n",
    "        days (int): Number of days of historical data to collect.\n",
    "        \n",
    "    Returns:\n",
    "        DataFrame: Combined price and sentiment data.\n",
    "    \"\"\"\n",
    "    print(f\"Collecting data for {symbol}...\")\n",
    "    \n",
    "    # Get historical price data\n",
    "    df = bot.get_historical_data(symbol, days=days)\n",
    "    if df is None:\n",
    "        print(f\"No historical data found for {symbol}\")\n",
    "        return None\n",
    "    \n",
    "    # Create a copy to avoid modifying the original dataframe\n",
    "    df = df.copy()\n",
    "    \n",
    "    # Extract the date from the timestamp for daily grouping\n",
    "    df['date'] = pd.to_datetime(df['timestamp']).dt.date\n",
    "    daily_dates = df['date'].unique().tolist()\n",
    "    \n",
    "    print(f\"Collected {len(df)} price data points, calculating sentiment for {len(daily_dates)} days...\")\n",
    "    \n",
    "    # Add sentiment column\n",
    "    df['sentiment'] = np.nan\n",
    "    \n",
    "    # Get sentiment for each day\n",
    "    for date in daily_dates:\n",
    "        date_str = pd.to_datetime(date).strftime('%Y-%m-%d')\n",
    "        print(f\"Getting sentiment for {symbol} for {date_str}\")\n",
    "        \n",
    "        articles = 10\n",
    "        news_date = pd.to_datetime(date)\n",
    "        # Using a 1-day lookback range to fetch daily sentiment\n",
    "        lookback_range = timedelta(days=1)\n",
    "        \n",
    "        sentiment = bot.get_sentiment_signal(symbol, articles, news_date, lookback_range)\n",
    "        df.loc[df['date'] == date, 'sentiment'] = sentiment\n",
    "        time.sleep(1)\n",
    "    \n",
    "    \n",
    "    # Drop rows with NaN values\n",
    "    # df = df.dropna()\n",
    "    \n",
    "    print(f\"Final dataset: {len(df)} rows for {symbol}\")\n",
    "    return df\n"
   ]
  },
  {
   "cell_type": "markdown",
   "metadata": {},
   "source": [
    "## Process all symbols and save the dataset"
   ]
  },
  {
   "cell_type": "code",
   "execution_count": null,
   "metadata": {
    "scrolled": true
   },
   "outputs": [],
   "source": [
    "# List to store dataframes for each symbol\n",
    "dfs = []\n",
    "\n",
    "for symbol in symbols:\n",
    "    try:\n",
    "        data = collect_historical_data_with_daily_sentiment(symbol)\n",
    "        if data is not None:\n",
    "            # Optionally add a symbol column if you want a combined DF later\n",
    "            data['symbol'] = symbol  \n",
    "            \n",
    "            # Save individual CSV for each symbol\n",
    "            data.to_csv(f\"data/{symbol}_historical_with_daily_sentiment.csv\", index=False)\n",
    "            print(f\"Saved data for {symbol}\")\n",
    "            \n",
    "            # Append to our list for later combining\n",
    "            dfs.append(data)\n",
    "        else:\n",
    "            print(f\"No data found for {symbol}\")\n",
    "    except Exception as e:\n",
    "        print(f\"Error processing {symbol}: {e}\")\n",
    "\n",
    "# If you want a single combined DataFrame for all symbols:\n",
    "if dfs:\n",
    "    combined_df = pd.concat(dfs, ignore_index=True)\n",
    "    combined_df.to_csv(\"data/combined_historical_with_daily_sentiment.csv\", index=False)\n",
    "    print(\"Saved combined data for all symbols.\")\n",
    "else:\n",
    "    print(\"No data to combine.\")\n"
   ]
  },
  {
   "cell_type": "code",
   "execution_count": 36,
   "metadata": {},
   "outputs": [],
   "source": [
    "def create_sequences(df, seq_length=SEQ_LENGTH, feature_columns=all_features):\n",
    "    \"\"\"\n",
    "    Create sequences from the DataFrame using a sliding window.\n",
    "    For each sequence of past `seq_length` days, the target is the closing price on day seq_length+1.\n",
    "    \"\"\"\n",
    "    X, y = [], []\n",
    "    if len(df) < seq_length + 1:\n",
    "        return None, None\n",
    "    for i in range(len(df) - seq_length):\n",
    "        # Sequence of features for past seq_length days\n",
    "        seq = df.iloc[i:i+seq_length][feature_columns].values\n",
    "        # Target is next day's closing price\n",
    "        target = df.iloc[i+seq_length]['close']\n",
    "        X.append(seq)\n",
    "        y.append(target)\n",
    "    return np.array(X), np.array(y)"
   ]
  },
  {
   "cell_type": "markdown",
   "metadata": {},
   "source": [
    "## Model Training"
   ]
  },
  {
   "cell_type": "code",
   "execution_count": 7,
   "metadata": {},
   "outputs": [],
   "source": [
    "SEQ_LENGTH = 30  # use past 30 days\n",
    "FEATURES = ['open', 'high', 'low', 'close', 'volume', 'sentiment'] \n",
    "TRAIN_RATIO = 0.8\n",
    "\n",
    "# Identify which features to scale (excluding sentiment which is already -1 to 1)\n",
    "FEATURES_TO_SCALE = ['open', 'high', 'low', 'close', 'volume']\n"
   ]
  },
  {
   "cell_type": "code",
   "execution_count": 8,
   "metadata": {},
   "outputs": [],
   "source": [
    "combined_file = \"data/combined_historical_with_daily_sentiment.csv\"\n",
    "if not os.path.exists(combined_file):\n",
    "    raise FileNotFoundError(f\"{combined_file} does not exist.\")\n"
   ]
  },
  {
   "cell_type": "code",
   "execution_count": 29,
   "metadata": {},
   "outputs": [],
   "source": [
    "df = pd.read_csv(combined_file, index_col=0)\n",
    "df['timestamp'] = pd.to_datetime(df['timestamp'])\n",
    "df = df.sort_values(['symbol', 'timestamp'])"
   ]
  },
  {
   "cell_type": "code",
   "execution_count": 30,
   "metadata": {},
   "outputs": [
    {
     "data": {
      "text/html": [
       "<div>\n",
       "<style scoped>\n",
       "    .dataframe tbody tr th:only-of-type {\n",
       "        vertical-align: middle;\n",
       "    }\n",
       "\n",
       "    .dataframe tbody tr th {\n",
       "        vertical-align: top;\n",
       "    }\n",
       "\n",
       "    .dataframe thead th {\n",
       "        text-align: right;\n",
       "    }\n",
       "</style>\n",
       "<table border=\"1\" class=\"dataframe\">\n",
       "  <thead>\n",
       "    <tr style=\"text-align: right;\">\n",
       "      <th></th>\n",
       "      <th>timestamp</th>\n",
       "      <th>open</th>\n",
       "      <th>high</th>\n",
       "      <th>low</th>\n",
       "      <th>close</th>\n",
       "      <th>volume</th>\n",
       "      <th>trade_count</th>\n",
       "      <th>vwap</th>\n",
       "      <th>date</th>\n",
       "      <th>sentiment</th>\n",
       "    </tr>\n",
       "    <tr>\n",
       "      <th>symbol</th>\n",
       "      <th></th>\n",
       "      <th></th>\n",
       "      <th></th>\n",
       "      <th></th>\n",
       "      <th></th>\n",
       "      <th></th>\n",
       "      <th></th>\n",
       "      <th></th>\n",
       "      <th></th>\n",
       "      <th></th>\n",
       "    </tr>\n",
       "  </thead>\n",
       "  <tbody>\n",
       "    <tr>\n",
       "      <th>NVDA</th>\n",
       "      <td>2025-03-28 04:00:00+00:00</td>\n",
       "      <td>111.485</td>\n",
       "      <td>112.87</td>\n",
       "      <td>109.0701</td>\n",
       "      <td>109.67</td>\n",
       "      <td>229872549.0</td>\n",
       "      <td>1847538.0</td>\n",
       "      <td>110.119953</td>\n",
       "      <td>2025-03-28</td>\n",
       "      <td>0.7</td>\n",
       "    </tr>\n",
       "  </tbody>\n",
       "</table>\n",
       "</div>"
      ],
      "text/plain": [
       "                       timestamp     open    high       low   close  \\\n",
       "symbol                                                                \n",
       "NVDA   2025-03-28 04:00:00+00:00  111.485  112.87  109.0701  109.67   \n",
       "\n",
       "             volume  trade_count        vwap        date  sentiment  \n",
       "symbol                                                               \n",
       "NVDA    229872549.0    1847538.0  110.119953  2025-03-28        0.7  "
      ]
     },
     "execution_count": 30,
     "metadata": {},
     "output_type": "execute_result"
    }
   ],
   "source": [
    "df.tail(1)"
   ]
  },
  {
   "cell_type": "code",
   "execution_count": 31,
   "metadata": {},
   "outputs": [
    {
     "data": {
      "text/plain": [
       "Index(['AAPL', 'AAPL', 'AAPL', 'AAPL', 'AAPL', 'AAPL', 'AAPL', 'AAPL', 'AAPL',\n",
       "       'AAPL',\n",
       "       ...\n",
       "       'NVDA', 'NVDA', 'NVDA', 'NVDA', 'NVDA', 'NVDA', 'NVDA', 'NVDA', 'NVDA',\n",
       "       'NVDA'],\n",
       "      dtype='object', name='symbol', length=1512)"
      ]
     },
     "execution_count": 31,
     "metadata": {},
     "output_type": "execute_result"
    }
   ],
   "source": [
    "df.index"
   ]
  },
  {
   "cell_type": "code",
   "execution_count": 32,
   "metadata": {},
   "outputs": [],
   "source": [
    "df.reset_index(inplace=True)\n",
    "symbol_dummies = pd.get_dummies(df['symbol'], prefix='symbol').astype('float32')\n",
    "df = pd.concat([df, symbol_dummies], axis=1)"
   ]
  },
  {
   "cell_type": "code",
   "execution_count": 33,
   "metadata": {},
   "outputs": [],
   "source": [
    "symbol_columns = symbol_dummies.columns.tolist()\n",
    "all_features = FEATURES + symbol_columns"
   ]
  },
  {
   "cell_type": "code",
   "execution_count": 34,
   "metadata": {},
   "outputs": [
    {
     "name": "stdout",
     "output_type": "stream",
     "text": [
      "['open', 'high', 'low', 'close', 'volume', 'sentiment', 'symbol_AAPL', 'symbol_AMZN', 'symbol_GOOGL', 'symbol_META', 'symbol_MSFT', 'symbol_NVDA']\n"
     ]
    }
   ],
   "source": [
    "print(all_features)"
   ]
  },
  {
   "cell_type": "code",
   "execution_count": 35,
   "metadata": {},
   "outputs": [],
   "source": [
    "X_train_list, y_train_list = [], []\n",
    "X_test_list, y_test_list = [], []"
   ]
  },
  {
   "cell_type": "code",
   "execution_count": 37,
   "metadata": {},
   "outputs": [
    {
     "name": "stdout",
     "output_type": "stream",
     "text": [
      "AAPL: 171 training sequences and 21 testing sequences.\n",
      "AMZN: 171 training sequences and 21 testing sequences.\n",
      "GOOGL: 171 training sequences and 21 testing sequences.\n",
      "META: 171 training sequences and 21 testing sequences.\n",
      "MSFT: 171 training sequences and 21 testing sequences.\n",
      "NVDA: 171 training sequences and 21 testing sequences.\n"
     ]
    }
   ],
   "source": [
    "for symbol, group in df.groupby('symbol'):\n",
    "    group = group.sort_values('timestamp').reset_index(drop=True)\n",
    "    \n",
    "    split_idx = int(len(group) * TRAIN_RATIO)\n",
    "    train_data = group.iloc[:split_idx]\n",
    "    test_data = group.iloc[split_idx:]\n",
    "        \n",
    "    scaler = MinMaxScaler()\n",
    "    \n",
    "    # Fit scaler on training data only\n",
    "    train_features = train_data[FEATURES_TO_SCALE].values\n",
    "    scaler.fit(train_features)\n",
    "    symbol_scalers[symbol] = scaler\n",
    "\n",
    "    # Transform both training and test data\n",
    "    train_scaled = train_data.copy()\n",
    "    test_scaled = test_data.copy()\n",
    "    \n",
    "    train_scaled[FEATURES_TO_SCALE] = scaler.transform(train_features)\n",
    "    test_scaled[FEATURES_TO_SCALE] = scaler.transform(test_data[FEATURES_TO_SCALE].values)\n",
    "\n",
    "    scaler_info = {\n",
    "        'scaler': scaler,\n",
    "        'features_to_scale': feature_columns\n",
    "    }\n",
    "    with open(f\"{BOT_NAME}/data/scaler_{symbol}.pkl\", 'wb') as f:\n",
    "        pickle.dump(scaler_info, f)\n",
    "    \n",
    "    X_train_symbol, y_train_symbol = create_sequences(train_scaled, seq_length=SEQ_LENGTH)\n",
    "    X_test_symbol, y_test_symbol = create_sequences(test_scaled, seq_length=SEQ_LENGTH)\n",
    "    \n",
    "    if X_train_symbol is None or len(X_train_symbol) == 0:\n",
    "        print(f\"Not enough training data for {symbol}; skipping.\")\n",
    "        continue\n",
    "    \n",
    "    if X_test_symbol is None or len(X_test_symbol) == 0:\n",
    "        print(f\"Not enough testing data for {symbol}; skipping.\")\n",
    "        continue\n",
    "    \n",
    "    X_train_list.append(X_train_symbol)\n",
    "    y_train_list.append(y_train_symbol)\n",
    "    X_test_list.append(X_test_symbol)\n",
    "    y_test_list.append(y_test_symbol)\n",
    "    \n",
    "    print(f\"{symbol}: {len(X_train_symbol)} training sequences and {len(X_test_symbol)} testing sequences.\")"
   ]
  },
  {
   "cell_type": "code",
   "execution_count": 38,
   "metadata": {},
   "outputs": [],
   "source": [
    "X_train = np.concatenate(X_train_list, axis=0)\n",
    "y_train = np.concatenate(y_train_list, axis=0)\n",
    "X_test = np.concatenate(X_test_list, axis=0)\n",
    "y_test = np.concatenate(y_test_list, axis=0)"
   ]
  },
  {
   "cell_type": "code",
   "execution_count": 39,
   "metadata": {},
   "outputs": [
    {
     "name": "stdout",
     "output_type": "stream",
     "text": [
      "Combined training shape: (1026, 30, 12)\n",
      "Combined testing shape: (126, 30, 12)\n"
     ]
    }
   ],
   "source": [
    "print(\"Combined training shape:\", X_train.shape)\n",
    "print(\"Combined testing shape:\", X_test.shape)"
   ]
  },
  {
   "cell_type": "code",
   "execution_count": 61,
   "metadata": {},
   "outputs": [
    {
     "data": {
      "text/html": [
       "<pre style=\"white-space:pre;overflow-x:auto;line-height:normal;font-family:Menlo,'DejaVu Sans Mono',consolas,'Courier New',monospace\"><span style=\"font-weight: bold\">Model: \"sequential_5\"</span>\n",
       "</pre>\n"
      ],
      "text/plain": [
       "\u001b[1mModel: \"sequential_5\"\u001b[0m\n"
      ]
     },
     "metadata": {},
     "output_type": "display_data"
    },
    {
     "data": {
      "text/html": [
       "<pre style=\"white-space:pre;overflow-x:auto;line-height:normal;font-family:Menlo,'DejaVu Sans Mono',consolas,'Courier New',monospace\">┏━━━━━━━━━━━━━━━━━━━━━━━━━━━━━━━━━┳━━━━━━━━━━━━━━━━━━━━━━━━┳━━━━━━━━━━━━━━━┓\n",
       "┃<span style=\"font-weight: bold\"> Layer (type)                    </span>┃<span style=\"font-weight: bold\"> Output Shape           </span>┃<span style=\"font-weight: bold\">       Param # </span>┃\n",
       "┡━━━━━━━━━━━━━━━━━━━━━━━━━━━━━━━━━╇━━━━━━━━━━━━━━━━━━━━━━━━╇━━━━━━━━━━━━━━━┩\n",
       "│ lstm_8 (<span style=\"color: #0087ff; text-decoration-color: #0087ff\">LSTM</span>)                   │ (<span style=\"color: #00d7ff; text-decoration-color: #00d7ff\">None</span>, <span style=\"color: #00af00; text-decoration-color: #00af00\">30</span>, <span style=\"color: #00af00; text-decoration-color: #00af00\">64</span>)         │        <span style=\"color: #00af00; text-decoration-color: #00af00\">19,712</span> │\n",
       "├─────────────────────────────────┼────────────────────────┼───────────────┤\n",
       "│ dropout_8 (<span style=\"color: #0087ff; text-decoration-color: #0087ff\">Dropout</span>)             │ (<span style=\"color: #00d7ff; text-decoration-color: #00d7ff\">None</span>, <span style=\"color: #00af00; text-decoration-color: #00af00\">30</span>, <span style=\"color: #00af00; text-decoration-color: #00af00\">64</span>)         │             <span style=\"color: #00af00; text-decoration-color: #00af00\">0</span> │\n",
       "├─────────────────────────────────┼────────────────────────┼───────────────┤\n",
       "│ lstm_9 (<span style=\"color: #0087ff; text-decoration-color: #0087ff\">LSTM</span>)                   │ (<span style=\"color: #00d7ff; text-decoration-color: #00d7ff\">None</span>, <span style=\"color: #00af00; text-decoration-color: #00af00\">64</span>)             │        <span style=\"color: #00af00; text-decoration-color: #00af00\">33,024</span> │\n",
       "├─────────────────────────────────┼────────────────────────┼───────────────┤\n",
       "│ dropout_9 (<span style=\"color: #0087ff; text-decoration-color: #0087ff\">Dropout</span>)             │ (<span style=\"color: #00d7ff; text-decoration-color: #00d7ff\">None</span>, <span style=\"color: #00af00; text-decoration-color: #00af00\">64</span>)             │             <span style=\"color: #00af00; text-decoration-color: #00af00\">0</span> │\n",
       "├─────────────────────────────────┼────────────────────────┼───────────────┤\n",
       "│ dense_8 (<span style=\"color: #0087ff; text-decoration-color: #0087ff\">Dense</span>)                 │ (<span style=\"color: #00d7ff; text-decoration-color: #00d7ff\">None</span>, <span style=\"color: #00af00; text-decoration-color: #00af00\">16</span>)             │         <span style=\"color: #00af00; text-decoration-color: #00af00\">1,040</span> │\n",
       "├─────────────────────────────────┼────────────────────────┼───────────────┤\n",
       "│ dense_9 (<span style=\"color: #0087ff; text-decoration-color: #0087ff\">Dense</span>)                 │ (<span style=\"color: #00d7ff; text-decoration-color: #00d7ff\">None</span>, <span style=\"color: #00af00; text-decoration-color: #00af00\">1</span>)              │            <span style=\"color: #00af00; text-decoration-color: #00af00\">17</span> │\n",
       "└─────────────────────────────────┴────────────────────────┴───────────────┘\n",
       "</pre>\n"
      ],
      "text/plain": [
       "┏━━━━━━━━━━━━━━━━━━━━━━━━━━━━━━━━━┳━━━━━━━━━━━━━━━━━━━━━━━━┳━━━━━━━━━━━━━━━┓\n",
       "┃\u001b[1m \u001b[0m\u001b[1mLayer (type)                   \u001b[0m\u001b[1m \u001b[0m┃\u001b[1m \u001b[0m\u001b[1mOutput Shape          \u001b[0m\u001b[1m \u001b[0m┃\u001b[1m \u001b[0m\u001b[1m      Param #\u001b[0m\u001b[1m \u001b[0m┃\n",
       "┡━━━━━━━━━━━━━━━━━━━━━━━━━━━━━━━━━╇━━━━━━━━━━━━━━━━━━━━━━━━╇━━━━━━━━━━━━━━━┩\n",
       "│ lstm_8 (\u001b[38;5;33mLSTM\u001b[0m)                   │ (\u001b[38;5;45mNone\u001b[0m, \u001b[38;5;34m30\u001b[0m, \u001b[38;5;34m64\u001b[0m)         │        \u001b[38;5;34m19,712\u001b[0m │\n",
       "├─────────────────────────────────┼────────────────────────┼───────────────┤\n",
       "│ dropout_8 (\u001b[38;5;33mDropout\u001b[0m)             │ (\u001b[38;5;45mNone\u001b[0m, \u001b[38;5;34m30\u001b[0m, \u001b[38;5;34m64\u001b[0m)         │             \u001b[38;5;34m0\u001b[0m │\n",
       "├─────────────────────────────────┼────────────────────────┼───────────────┤\n",
       "│ lstm_9 (\u001b[38;5;33mLSTM\u001b[0m)                   │ (\u001b[38;5;45mNone\u001b[0m, \u001b[38;5;34m64\u001b[0m)             │        \u001b[38;5;34m33,024\u001b[0m │\n",
       "├─────────────────────────────────┼────────────────────────┼───────────────┤\n",
       "│ dropout_9 (\u001b[38;5;33mDropout\u001b[0m)             │ (\u001b[38;5;45mNone\u001b[0m, \u001b[38;5;34m64\u001b[0m)             │             \u001b[38;5;34m0\u001b[0m │\n",
       "├─────────────────────────────────┼────────────────────────┼───────────────┤\n",
       "│ dense_8 (\u001b[38;5;33mDense\u001b[0m)                 │ (\u001b[38;5;45mNone\u001b[0m, \u001b[38;5;34m16\u001b[0m)             │         \u001b[38;5;34m1,040\u001b[0m │\n",
       "├─────────────────────────────────┼────────────────────────┼───────────────┤\n",
       "│ dense_9 (\u001b[38;5;33mDense\u001b[0m)                 │ (\u001b[38;5;45mNone\u001b[0m, \u001b[38;5;34m1\u001b[0m)              │            \u001b[38;5;34m17\u001b[0m │\n",
       "└─────────────────────────────────┴────────────────────────┴───────────────┘\n"
      ]
     },
     "metadata": {},
     "output_type": "display_data"
    },
    {
     "data": {
      "text/html": [
       "<pre style=\"white-space:pre;overflow-x:auto;line-height:normal;font-family:Menlo,'DejaVu Sans Mono',consolas,'Courier New',monospace\"><span style=\"font-weight: bold\"> Total params: </span><span style=\"color: #00af00; text-decoration-color: #00af00\">53,793</span> (210.13 KB)\n",
       "</pre>\n"
      ],
      "text/plain": [
       "\u001b[1m Total params: \u001b[0m\u001b[38;5;34m53,793\u001b[0m (210.13 KB)\n"
      ]
     },
     "metadata": {},
     "output_type": "display_data"
    },
    {
     "data": {
      "text/html": [
       "<pre style=\"white-space:pre;overflow-x:auto;line-height:normal;font-family:Menlo,'DejaVu Sans Mono',consolas,'Courier New',monospace\"><span style=\"font-weight: bold\"> Trainable params: </span><span style=\"color: #00af00; text-decoration-color: #00af00\">53,793</span> (210.13 KB)\n",
       "</pre>\n"
      ],
      "text/plain": [
       "\u001b[1m Trainable params: \u001b[0m\u001b[38;5;34m53,793\u001b[0m (210.13 KB)\n"
      ]
     },
     "metadata": {},
     "output_type": "display_data"
    },
    {
     "data": {
      "text/html": [
       "<pre style=\"white-space:pre;overflow-x:auto;line-height:normal;font-family:Menlo,'DejaVu Sans Mono',consolas,'Courier New',monospace\"><span style=\"font-weight: bold\"> Non-trainable params: </span><span style=\"color: #00af00; text-decoration-color: #00af00\">0</span> (0.00 B)\n",
       "</pre>\n"
      ],
      "text/plain": [
       "\u001b[1m Non-trainable params: \u001b[0m\u001b[38;5;34m0\u001b[0m (0.00 B)\n"
      ]
     },
     "metadata": {},
     "output_type": "display_data"
    }
   ],
   "source": [
    "model = Sequential()\n",
    "model.add(LSTM(64, activation='relu', return_sequences=True, input_shape=(SEQ_LENGTH, len(all_features)), \n",
    "              kernel_regularizer=l2(0.001)))\n",
    "model.add(Dropout(0.3)) \n",
    "\n",
    "# Second LSTM layer\n",
    "model.add(LSTM(64, activation='relu', kernel_regularizer=l2(0.001)))\n",
    "model.add(Dropout(0.3))\n",
    "\n",
    "model.add(Dense(16, activation='relu', kernel_regularizer=l2(0.001)))\n",
    "\n",
    "# Final output layer for regression\n",
    "model.add(Dense(1))\n",
    "\n",
    "model.compile(optimizer='adam', loss='mse')\n",
    "model.summary()"
   ]
  },
  {
   "cell_type": "code",
   "execution_count": 62,
   "metadata": {},
   "outputs": [],
   "source": [
    "early_stop = EarlyStopping(monitor='val_loss', patience=10, restore_best_weights=True)\n",
    "reduce_lr = tf.keras.callbacks.ReduceLROnPlateau(monitor='val_loss', factor=0.2, patience=5, min_lr=0.0001)"
   ]
  },
  {
   "cell_type": "code",
   "execution_count": 63,
   "metadata": {},
   "outputs": [
    {
     "name": "stdout",
     "output_type": "stream",
     "text": [
      "Epoch 1/50\n",
      "\u001b[1m26/26\u001b[0m \u001b[32m━━━━━━━━━━━━━━━━━━━━\u001b[0m\u001b[37m\u001b[0m \u001b[1m1s\u001b[0m 16ms/step - loss: 0.2998 - val_loss: 0.1942 - learning_rate: 0.0010\n",
      "Epoch 2/50\n",
      "\u001b[1m26/26\u001b[0m \u001b[32m━━━━━━━━━━━━━━━━━━━━\u001b[0m\u001b[37m\u001b[0m \u001b[1m0s\u001b[0m 11ms/step - loss: 0.1328 - val_loss: 0.1442 - learning_rate: 0.0010\n",
      "Epoch 3/50\n",
      "\u001b[1m26/26\u001b[0m \u001b[32m━━━━━━━━━━━━━━━━━━━━\u001b[0m\u001b[37m\u001b[0m \u001b[1m0s\u001b[0m 11ms/step - loss: 0.0963 - val_loss: 0.1163 - learning_rate: 0.0010\n",
      "Epoch 4/50\n",
      "\u001b[1m26/26\u001b[0m \u001b[32m━━━━━━━━━━━━━━━━━━━━\u001b[0m\u001b[37m\u001b[0m \u001b[1m0s\u001b[0m 11ms/step - loss: 0.0774 - val_loss: 0.0935 - learning_rate: 0.0010\n",
      "Epoch 5/50\n",
      "\u001b[1m26/26\u001b[0m \u001b[32m━━━━━━━━━━━━━━━━━━━━\u001b[0m\u001b[37m\u001b[0m \u001b[1m0s\u001b[0m 12ms/step - loss: 0.0639 - val_loss: 0.0818 - learning_rate: 0.0010\n",
      "Epoch 6/50\n",
      "\u001b[1m26/26\u001b[0m \u001b[32m━━━━━━━━━━━━━━━━━━━━\u001b[0m\u001b[37m\u001b[0m \u001b[1m0s\u001b[0m 13ms/step - loss: 0.0570 - val_loss: 0.0702 - learning_rate: 0.0010\n",
      "Epoch 7/50\n",
      "\u001b[1m26/26\u001b[0m \u001b[32m━━━━━━━━━━━━━━━━━━━━\u001b[0m\u001b[37m\u001b[0m \u001b[1m0s\u001b[0m 13ms/step - loss: 0.0504 - val_loss: 0.0656 - learning_rate: 0.0010\n",
      "Epoch 8/50\n",
      "\u001b[1m26/26\u001b[0m \u001b[32m━━━━━━━━━━━━━━━━━━━━\u001b[0m\u001b[37m\u001b[0m \u001b[1m0s\u001b[0m 12ms/step - loss: 0.0439 - val_loss: 0.0597 - learning_rate: 0.0010\n",
      "Epoch 9/50\n",
      "\u001b[1m26/26\u001b[0m \u001b[32m━━━━━━━━━━━━━━━━━━━━\u001b[0m\u001b[37m\u001b[0m \u001b[1m0s\u001b[0m 11ms/step - loss: 0.0402 - val_loss: 0.0575 - learning_rate: 0.0010\n",
      "Epoch 10/50\n",
      "\u001b[1m26/26\u001b[0m \u001b[32m━━━━━━━━━━━━━━━━━━━━\u001b[0m\u001b[37m\u001b[0m \u001b[1m0s\u001b[0m 14ms/step - loss: 0.0381 - val_loss: 0.0566 - learning_rate: 0.0010\n",
      "Epoch 11/50\n",
      "\u001b[1m26/26\u001b[0m \u001b[32m━━━━━━━━━━━━━━━━━━━━\u001b[0m\u001b[37m\u001b[0m \u001b[1m0s\u001b[0m 12ms/step - loss: 0.0364 - val_loss: 0.0522 - learning_rate: 0.0010\n",
      "Epoch 12/50\n",
      "\u001b[1m26/26\u001b[0m \u001b[32m━━━━━━━━━━━━━━━━━━━━\u001b[0m\u001b[37m\u001b[0m \u001b[1m0s\u001b[0m 11ms/step - loss: 0.0333 - val_loss: 0.0510 - learning_rate: 0.0010\n",
      "Epoch 13/50\n",
      "\u001b[1m26/26\u001b[0m \u001b[32m━━━━━━━━━━━━━━━━━━━━\u001b[0m\u001b[37m\u001b[0m \u001b[1m0s\u001b[0m 12ms/step - loss: 0.0314 - val_loss: 0.0497 - learning_rate: 0.0010\n",
      "Epoch 14/50\n",
      "\u001b[1m26/26\u001b[0m \u001b[32m━━━━━━━━━━━━━━━━━━━━\u001b[0m\u001b[37m\u001b[0m \u001b[1m0s\u001b[0m 11ms/step - loss: 0.0288 - val_loss: 0.0505 - learning_rate: 0.0010\n",
      "Epoch 15/50\n",
      "\u001b[1m26/26\u001b[0m \u001b[32m━━━━━━━━━━━━━━━━━━━━\u001b[0m\u001b[37m\u001b[0m \u001b[1m0s\u001b[0m 11ms/step - loss: 0.0279 - val_loss: 0.0493 - learning_rate: 0.0010\n",
      "Epoch 16/50\n",
      "\u001b[1m26/26\u001b[0m \u001b[32m━━━━━━━━━━━━━━━━━━━━\u001b[0m\u001b[37m\u001b[0m \u001b[1m0s\u001b[0m 11ms/step - loss: 0.0271 - val_loss: 0.0500 - learning_rate: 0.0010\n",
      "Epoch 17/50\n",
      "\u001b[1m26/26\u001b[0m \u001b[32m━━━━━━━━━━━━━━━━━━━━\u001b[0m\u001b[37m\u001b[0m \u001b[1m0s\u001b[0m 12ms/step - loss: 0.0251 - val_loss: 0.0525 - learning_rate: 0.0010\n",
      "Epoch 18/50\n",
      "\u001b[1m26/26\u001b[0m \u001b[32m━━━━━━━━━━━━━━━━━━━━\u001b[0m\u001b[37m\u001b[0m \u001b[1m0s\u001b[0m 11ms/step - loss: 0.0247 - val_loss: 0.0518 - learning_rate: 0.0010\n",
      "Epoch 19/50\n",
      "\u001b[1m26/26\u001b[0m \u001b[32m━━━━━━━━━━━━━━━━━━━━\u001b[0m\u001b[37m\u001b[0m \u001b[1m0s\u001b[0m 12ms/step - loss: 0.0233 - val_loss: 0.0526 - learning_rate: 0.0010\n",
      "Epoch 20/50\n",
      "\u001b[1m26/26\u001b[0m \u001b[32m━━━━━━━━━━━━━━━━━━━━\u001b[0m\u001b[37m\u001b[0m \u001b[1m0s\u001b[0m 12ms/step - loss: 0.0229 - val_loss: 0.0532 - learning_rate: 0.0010\n",
      "Epoch 21/50\n",
      "\u001b[1m26/26\u001b[0m \u001b[32m━━━━━━━━━━━━━━━━━━━━\u001b[0m\u001b[37m\u001b[0m \u001b[1m0s\u001b[0m 12ms/step - loss: 0.0212 - val_loss: 0.0538 - learning_rate: 2.0000e-04\n",
      "Epoch 22/50\n",
      "\u001b[1m26/26\u001b[0m \u001b[32m━━━━━━━━━━━━━━━━━━━━\u001b[0m\u001b[37m\u001b[0m \u001b[1m0s\u001b[0m 12ms/step - loss: 0.0215 - val_loss: 0.0541 - learning_rate: 2.0000e-04\n",
      "Epoch 23/50\n",
      "\u001b[1m26/26\u001b[0m \u001b[32m━━━━━━━━━━━━━━━━━━━━\u001b[0m\u001b[37m\u001b[0m \u001b[1m0s\u001b[0m 12ms/step - loss: 0.0203 - val_loss: 0.0547 - learning_rate: 2.0000e-04\n",
      "Epoch 24/50\n",
      "\u001b[1m26/26\u001b[0m \u001b[32m━━━━━━━━━━━━━━━━━━━━\u001b[0m\u001b[37m\u001b[0m \u001b[1m0s\u001b[0m 12ms/step - loss: 0.0200 - val_loss: 0.0544 - learning_rate: 2.0000e-04\n",
      "Epoch 25/50\n",
      "\u001b[1m26/26\u001b[0m \u001b[32m━━━━━━━━━━━━━━━━━━━━\u001b[0m\u001b[37m\u001b[0m \u001b[1m0s\u001b[0m 12ms/step - loss: 0.0206 - val_loss: 0.0545 - learning_rate: 2.0000e-04\n",
      "Epoch 26/50\n",
      "\u001b[1m26/26\u001b[0m \u001b[32m━━━━━━━━━━━━━━━━━━━━\u001b[0m\u001b[37m\u001b[0m \u001b[1m0s\u001b[0m 12ms/step - loss: 0.0203 - val_loss: 0.0545 - learning_rate: 1.0000e-04\n",
      "Epoch 27/50\n",
      "\u001b[1m26/26\u001b[0m \u001b[32m━━━━━━━━━━━━━━━━━━━━\u001b[0m\u001b[37m\u001b[0m \u001b[1m0s\u001b[0m 12ms/step - loss: 0.0196 - val_loss: 0.0546 - learning_rate: 1.0000e-04\n",
      "Epoch 28/50\n",
      "\u001b[1m26/26\u001b[0m \u001b[32m━━━━━━━━━━━━━━━━━━━━\u001b[0m\u001b[37m\u001b[0m \u001b[1m0s\u001b[0m 12ms/step - loss: 0.0203 - val_loss: 0.0543 - learning_rate: 1.0000e-04\n",
      "Epoch 29/50\n",
      "\u001b[1m26/26\u001b[0m \u001b[32m━━━━━━━━━━━━━━━━━━━━\u001b[0m\u001b[37m\u001b[0m \u001b[1m0s\u001b[0m 12ms/step - loss: 0.0192 - val_loss: 0.0547 - learning_rate: 1.0000e-04\n",
      "Epoch 30/50\n",
      "\u001b[1m26/26\u001b[0m \u001b[32m━━━━━━━━━━━━━━━━━━━━\u001b[0m\u001b[37m\u001b[0m \u001b[1m0s\u001b[0m 12ms/step - loss: 0.0197 - val_loss: 0.0546 - learning_rate: 1.0000e-04\n",
      "Epoch 31/50\n",
      "\u001b[1m26/26\u001b[0m \u001b[32m━━━━━━━━━━━━━━━━━━━━\u001b[0m\u001b[37m\u001b[0m \u001b[1m0s\u001b[0m 12ms/step - loss: 0.0195 - val_loss: 0.0547 - learning_rate: 1.0000e-04\n",
      "Epoch 32/50\n",
      "\u001b[1m26/26\u001b[0m \u001b[32m━━━━━━━━━━━━━━━━━━━━\u001b[0m\u001b[37m\u001b[0m \u001b[1m0s\u001b[0m 12ms/step - loss: 0.0190 - val_loss: 0.0545 - learning_rate: 1.0000e-04\n",
      "Epoch 33/50\n",
      "\u001b[1m26/26\u001b[0m \u001b[32m━━━━━━━━━━━━━━━━━━━━\u001b[0m\u001b[37m\u001b[0m \u001b[1m0s\u001b[0m 12ms/step - loss: 0.0194 - val_loss: 0.0551 - learning_rate: 1.0000e-04\n",
      "Epoch 34/50\n",
      "\u001b[1m26/26\u001b[0m \u001b[32m━━━━━━━━━━━━━━━━━━━━\u001b[0m\u001b[37m\u001b[0m \u001b[1m0s\u001b[0m 12ms/step - loss: 0.0190 - val_loss: 0.0547 - learning_rate: 1.0000e-04\n",
      "Epoch 35/50\n",
      "\u001b[1m26/26\u001b[0m \u001b[32m━━━━━━━━━━━━━━━━━━━━\u001b[0m\u001b[37m\u001b[0m \u001b[1m0s\u001b[0m 12ms/step - loss: 0.0192 - val_loss: 0.0545 - learning_rate: 1.0000e-04\n",
      "Epoch 36/50\n",
      "\u001b[1m26/26\u001b[0m \u001b[32m━━━━━━━━━━━━━━━━━━━━\u001b[0m\u001b[37m\u001b[0m \u001b[1m0s\u001b[0m 12ms/step - loss: 0.0182 - val_loss: 0.0546 - learning_rate: 1.0000e-04\n",
      "Epoch 37/50\n",
      "\u001b[1m26/26\u001b[0m \u001b[32m━━━━━━━━━━━━━━━━━━━━\u001b[0m\u001b[37m\u001b[0m \u001b[1m0s\u001b[0m 12ms/step - loss: 0.0187 - val_loss: 0.0544 - learning_rate: 1.0000e-04\n",
      "Epoch 38/50\n",
      "\u001b[1m26/26\u001b[0m \u001b[32m━━━━━━━━━━━━━━━━━━━━\u001b[0m\u001b[37m\u001b[0m \u001b[1m0s\u001b[0m 12ms/step - loss: 0.0185 - val_loss: 0.0544 - learning_rate: 1.0000e-04\n",
      "Epoch 39/50\n",
      "\u001b[1m26/26\u001b[0m \u001b[32m━━━━━━━━━━━━━━━━━━━━\u001b[0m\u001b[37m\u001b[0m \u001b[1m0s\u001b[0m 13ms/step - loss: 0.0186 - val_loss: 0.0541 - learning_rate: 1.0000e-04\n",
      "Epoch 40/50\n",
      "\u001b[1m26/26\u001b[0m \u001b[32m━━━━━━━━━━━━━━━━━━━━\u001b[0m\u001b[37m\u001b[0m \u001b[1m0s\u001b[0m 11ms/step - loss: 0.0182 - val_loss: 0.0545 - learning_rate: 1.0000e-04\n",
      "Epoch 41/50\n",
      "\u001b[1m26/26\u001b[0m \u001b[32m━━━━━━━━━━━━━━━━━━━━\u001b[0m\u001b[37m\u001b[0m \u001b[1m0s\u001b[0m 11ms/step - loss: 0.0188 - val_loss: 0.0543 - learning_rate: 1.0000e-04\n",
      "Epoch 42/50\n",
      "\u001b[1m26/26\u001b[0m \u001b[32m━━━━━━━━━━━━━━━━━━━━\u001b[0m\u001b[37m\u001b[0m \u001b[1m0s\u001b[0m 12ms/step - loss: 0.0182 - val_loss: 0.0545 - learning_rate: 1.0000e-04\n",
      "Epoch 43/50\n",
      "\u001b[1m26/26\u001b[0m \u001b[32m━━━━━━━━━━━━━━━━━━━━\u001b[0m\u001b[37m\u001b[0m \u001b[1m0s\u001b[0m 12ms/step - loss: 0.0189 - val_loss: 0.0544 - learning_rate: 1.0000e-04\n",
      "Epoch 44/50\n",
      "\u001b[1m26/26\u001b[0m \u001b[32m━━━━━━━━━━━━━━━━━━━━\u001b[0m\u001b[37m\u001b[0m \u001b[1m0s\u001b[0m 12ms/step - loss: 0.0174 - val_loss: 0.0544 - learning_rate: 1.0000e-04\n",
      "Epoch 45/50\n",
      "\u001b[1m26/26\u001b[0m \u001b[32m━━━━━━━━━━━━━━━━━━━━\u001b[0m\u001b[37m\u001b[0m \u001b[1m0s\u001b[0m 12ms/step - loss: 0.0179 - val_loss: 0.0543 - learning_rate: 1.0000e-04\n",
      "Epoch 46/50\n",
      "\u001b[1m26/26\u001b[0m \u001b[32m━━━━━━━━━━━━━━━━━━━━\u001b[0m\u001b[37m\u001b[0m \u001b[1m0s\u001b[0m 12ms/step - loss: 0.0181 - val_loss: 0.0547 - learning_rate: 1.0000e-04\n",
      "Epoch 47/50\n",
      "\u001b[1m26/26\u001b[0m \u001b[32m━━━━━━━━━━━━━━━━━━━━\u001b[0m\u001b[37m\u001b[0m \u001b[1m0s\u001b[0m 11ms/step - loss: 0.0187 - val_loss: 0.0551 - learning_rate: 1.0000e-04\n",
      "Epoch 48/50\n",
      "\u001b[1m26/26\u001b[0m \u001b[32m━━━━━━━━━━━━━━━━━━━━\u001b[0m\u001b[37m\u001b[0m \u001b[1m0s\u001b[0m 12ms/step - loss: 0.0176 - val_loss: 0.0542 - learning_rate: 1.0000e-04\n",
      "Epoch 49/50\n",
      "\u001b[1m26/26\u001b[0m \u001b[32m━━━━━━━━━━━━━━━━━━━━\u001b[0m\u001b[37m\u001b[0m \u001b[1m0s\u001b[0m 12ms/step - loss: 0.0180 - val_loss: 0.0548 - learning_rate: 1.0000e-04\n",
      "Epoch 50/50\n",
      "\u001b[1m26/26\u001b[0m \u001b[32m━━━━━━━━━━━━━━━━━━━━\u001b[0m\u001b[37m\u001b[0m \u001b[1m0s\u001b[0m 12ms/step - loss: 0.0181 - val_loss: 0.0552 - learning_rate: 1.0000e-04\n"
     ]
    }
   ],
   "source": [
    "history = model.fit(X_train, y_train, \n",
    "                    epochs=50, batch_size=32, \n",
    "                    validation_split=0.2, \n",
    "                    callbacks=[reduce_lr])"
   ]
  },
  {
   "cell_type": "code",
   "execution_count": 64,
   "metadata": {},
   "outputs": [
    {
     "name": "stdout",
     "output_type": "stream",
     "text": [
      "\u001b[1m4/4\u001b[0m \u001b[32m━━━━━━━━━━━━━━━━━━━━\u001b[0m\u001b[37m\u001b[0m \u001b[1m0s\u001b[0m 5ms/step - loss: 0.0255\n",
      "Test Loss (MSE): 0.034126166254282\n"
     ]
    }
   ],
   "source": [
    "test_loss = model.evaluate(X_test, y_test)\n",
    "print(\"Test Loss (MSE):\", test_loss)"
   ]
  },
  {
   "cell_type": "code",
   "execution_count": 65,
   "metadata": {},
   "outputs": [
    {
     "name": "stdout",
     "output_type": "stream",
     "text": [
      "2025-04-07\n"
     ]
    }
   ],
   "source": [
    "now = datetime.now().strftime('%Y-%m-%d')\n",
    "print(now)"
   ]
  },
  {
   "cell_type": "code",
   "execution_count": 66,
   "metadata": {},
   "outputs": [
    {
     "data": {
      "image/png": "[encoded data removed]",
      "text/plain": [
       "<Figure size 1000x500 with 1 Axes>"
      ]
     },
     "metadata": {},
     "output_type": "display_data"
    }
   ],
   "source": [
    "plt.figure(figsize=(10, 5))\n",
    "plt.plot(history.history['loss'], label='Training Loss')\n",
    "plt.plot(history.history['val_loss'], label='Validation Loss')\n",
    "plt.title('Model Loss')\n",
    "plt.xlabel('Epoch')\n",
    "plt.ylabel('Loss')\n",
    "plt.legend()\n",
    "plt.show()"
   ]
  },
  {
   "cell_type": "code",
   "execution_count": 67,
   "metadata": {},
   "outputs": [
    {
     "name": "stdout",
     "output_type": "stream",
     "text": [
      "Saved LSTM model to models/lstm_combined_model_2025-04-07.keras\n"
     ]
    }
   ],
   "source": [
    "os.makedirs('data/models', exist_ok=True)\n",
    "date = datetime.now().strftime('%Y-%m-%d')\n",
    "path = 'data'\n",
    "model_name = f\"lstm_combined_model_{date}.keras\"\n",
    "model.save(f\"data/models/{model_name}\")\n",
    "print(f\"Saved LSTM model to models/{model_name}\")"
   ]
  },
  {
   "cell_type": "code",
   "execution_count": 203,
   "metadata": {},
   "outputs": [],
   "source": [
    "def predict_todays_closing_price_enriched(symbol):\n",
    "    \"\"\"\n",
    "    Predict today's closing price for the given symbol using enriched price data that includes sentiment.\n",
    "    \n",
    "    Process:\n",
    "    1. Load and update historical sentiment data.\n",
    "    2. Scale the price and volume features (same as during training).\n",
    "    3. Add one-hot encoding for symbols.\n",
    "    4. Create the input sequence for the model.\n",
    "    5. Predict the closing price.\n",
    "    \n",
    "    Returns:\n",
    "        float or None: The predicted closing price for today, or None if not enough data.\n",
    "    \"\"\"\n",
    "    # Load the scaler\n",
    "    with open('data/scaler.pkl', 'rb') as f:\n",
    "        scaler_info = pickle.load(f)\n",
    "        SCALER = scaler_info['scaler']\n",
    "        FEATURES_TO_SCALE = scaler_info['features_to_scale']\n",
    "    \n",
    "    # Load the trained model\n",
    "    MODEL = load_model(f\"data/models/lstm_combined_model_2025-03-29.keras\")\n",
    "    \n",
    "    # Step 1: Load and update historical sentiment data\n",
    "    df = bot.load_and_update_sentiment_data(SEQ_LENGTH)\n",
    "    if df is None or df.empty:\n",
    "        print(\"Failed to load sentiment data.\")\n",
    "        return None\n",
    "    \n",
    "    # Step 2: Scale numerical features using the same scaler from training\n",
    "    df_scaled = df.copy()\n",
    "    df_scaled[FEATURES_TO_SCALE] = SCALER.transform(df[FEATURES_TO_SCALE])\n",
    "    \n",
    "    # Step 3: Add one-hot encoding for symbols\n",
    "    symbol_dummies = pd.get_dummies(df_scaled['symbol'], prefix='symbol').astype('float32')\n",
    "    df_scaled = pd.concat([df_scaled, symbol_dummies], axis=1)\n",
    "    \n",
    "    # Get the full list of features for the model\n",
    "    symbol_columns = [col for col in df_scaled.columns if col.startswith('symbol_')]\n",
    "    all_features = FEATURES + symbol_columns\n",
    "    \n",
    "    # Step 4: Filter for the specific symbol and check data sufficiency\n",
    "    symbol_df = df_scaled[df_scaled['symbol'] == symbol].sort_values(by=\"timestamp\")\n",
    "    if len(symbol_df) < SEQ_LENGTH:\n",
    "        print(f\"Not enough data for {symbol}. Need {SEQ_LENGTH} days, have {len(symbol_df)}.\")\n",
    "        return None\n",
    "    \n",
    "    # Create input sequence using the last SEQ_LENGTH rows\n",
    "    input_seq = symbol_df.iloc[-SEQ_LENGTH:][all_features].values.astype('float32')\n",
    "    input_seq = input_seq.reshape(1, SEQ_LENGTH, len(all_features))\n",
    "    \n",
    "    # Step 5: Make the prediction (scaled)\n",
    "    predicted_scaled = MODEL.predict(input_seq, verbose=0)[0][0]\n",
    "    \n",
    "    # Step 6: Unscale the prediction\n",
    "    # Get the index of 'close' in FEATURES_TO_SCALE\n",
    "    close_idx = FEATURES_TO_SCALE.index('close')\n",
    "    \n",
    "    # Create a dummy array with zeros for all scalable features\n",
    "    dummy = np.zeros((1, len(FEATURES_TO_SCALE)))\n",
    "    # Place the scaled prediction in the position corresponding to 'close'\n",
    "    dummy[0, close_idx] = predicted_scaled\n",
    "    \n",
    "    # Inverse transform to get the actual price\n",
    "    unscaled_dummy = SCALER.inverse_transform(dummy)\n",
    "    # Extract the unscaled closing price\n",
    "    predicted_price = unscaled_dummy[0, close_idx]    \n",
    "    print(f\"Predicted closing price for {symbol} is ${predicted_price:.2f}\")\n",
    "    \n",
    "    return predicted_price"
   ]
  },
  {
   "cell_type": "code",
   "execution_count": null,
   "metadata": {},
   "outputs": [],
   "source": []
  }
 ],
 "metadata": {
  "kernelspec": {
   "display_name": "Python 3 (ipykernel)",
   "language": "python",
   "name": "python3"
  },
  "language_info": {
   "codemirror_mode": {
    "name": "ipython",
    "version": 3
   },
   "file_extension": ".py",
   "mimetype": "text/x-python",
   "name": "python",
   "nbconvert_exporter": "python",
   "pygments_lexer": "ipython3",
   "version": "3.12.9"
  }
 },
 "nbformat": 4,
 "nbformat_minor": 4
}
