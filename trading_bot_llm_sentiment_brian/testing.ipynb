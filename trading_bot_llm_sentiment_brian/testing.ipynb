{
 "cells": [
  {
   "cell_type": "code",
   "execution_count": 9,
   "metadata": {},
   "outputs": [],
   "source": [
    "API_KEY = 'cvhcd19r01qrtb3noeq0cvhcd19r01qrtb3noeqg'"
   ]
  },
  {
   "cell_type": "code",
   "execution_count": 5,
   "metadata": {},
   "outputs": [],
   "source": [
    "import requests\n",
    "from datetime import datetime, timedelta\n",
    "import finnhub\n"
   ]
  },
  {
   "cell_type": "code",
   "execution_count": 6,
   "metadata": {},
   "outputs": [],
   "source": [
    "symbol = 'AAPL'"
   ]
  },
  {
   "cell_type": "code",
   "execution_count": 20,
   "metadata": {},
   "outputs": [],
   "source": [
    "today = datetime.today().date()\n",
    "range = timedelta(days=2)\n",
    "to_date = today - timedelta(days=100)\n",
    "from_date = to_date - range"
   ]
  },
  {
   "cell_type": "code",
   "execution_count": 7,
   "metadata": {},
   "outputs": [],
   "source": [
    "to_date = datetime.today().date()\n",
    "from_date = to_date - timedelta(days=2)"
   ]
  },
  {
   "cell_type": "code",
   "execution_count": 27,
   "metadata": {},
   "outputs": [],
   "source": [
    "nes = finnhub_client.company_news('MSFT', _from=from_date, to=to_date)\n"
   ]
  },
  {
   "cell_type": "code",
   "execution_count": 32,
   "metadata": {},
   "outputs": [],
   "source": [
    "import pprint"
   ]
  },
  {
   "cell_type": "code",
   "execution_count": 23,
   "metadata": {},
   "outputs": [
    {
     "name": "stdout",
     "output_type": "stream",
     "text": [
      "61\n"
     ]
    }
   ],
   "source": [
    "print(len(nes))"
   ]
  },
  {
   "cell_type": "code",
   "execution_count": 24,
   "metadata": {},
   "outputs": [],
   "source": [
    "sub_news = nes[:10]"
   ]
  },
  {
   "cell_type": "code",
   "execution_count": 25,
   "metadata": {},
   "outputs": [],
   "source": [
    "mapped_news = [{'summary': f\"{news['headline']}: {news['summary']}\", 'url': news['url']} for news in sub_news]"
   ]
  },
  {
   "cell_type": "code",
   "execution_count": 26,
   "metadata": {},
   "outputs": [
    {
     "name": "stdout",
     "output_type": "stream",
     "text": [
      "[{'summary': '‘The Nvidia Way’ Review: The Hard Work of Tech Mastery: When Nvidia’s CEO is asked how to be successful, he will respond: “I wish upon you ample doses of pain and suffering.”', 'url': 'https://finnhub.io/api/news?id=d9caa54d6337dde83269bc7aed751cefaea58d3341d3b7925a59389f8aed4acc'}, {'summary': 'Elon Musk \\'Jokingly\\' Refers To Apple As The \\'Tesla Graveyard\\' And Says Steve Jobs Was \\'Kind Of A Jerk\\' To Him When They Met At A Party: Elon Musk doesn\\'t hold back when it comes to Apple. From calling the company the \"Tesla Graveyard\" to criticizing its AI plans and reflecting on his unpleasant encounter with Steve Jobs, Musk\\'s comments make it clear that the rivalry between these tech giants is personal, professional and competitive. Back in 2015, during an interview with the German newspaper Handelsblatt, Musk mocked Apple\\'s hiring practices. Referring to its recruitment of former Tesla employees, he said: \"They have hired peo', 'url': 'https://finnhub.io/api/news?id=f261a75dfdb043091d787759b5b7fe67872c6cdd8d740df940513580a73fbdcf'}, {'summary': '3 Market-Beating Tech Stocks to Supercharge Your Portfolio in 2025 and Beyond: The technology sector was a party in 2024. Thanks to their robust fundamentals and red-hot growth opportunities, these three prominent tech stocks are poised to continue the fun.', 'url': 'https://finnhub.io/api/news?id=fbfa9563cb09caf871b02fa45b8a4e7d522c7fbb7b04517653dd0ebcafdf8f75'}, {'summary': 'Tesla Is Most Expensive Mag 7 Stock. This Is How Much It Needs to Earn to Justify It.: Tesla Is Most Expensive Mag 7 Stock. This Is How Much It Needs to Earn to Justify It.', 'url': 'https://finnhub.io/api/news?id=41a09b08bd46e5d7e5d9d2be9d963701c226bfeeb1788371a1e223588867d133'}, {'summary': \"Wall Street Brunch: Fed Accompli: Quarter-point cut expected, but tariffs could boost inflation next year. Micron set to report earnings. Goldman's 12 Days of Trading.\", 'url': 'https://finnhub.io/api/news?id=e43b2b6b39c07b6a16fabbdb3062368c5f451f84c63fcdae2ff1141f7933fbf8'}, {'summary': 'The final Fed meeting of 2024 awaits: What to know this week: Investors will be closely watching for any hints on how much further the Federal Reserve plans to lower interest rates in 2025.', 'url': 'https://finnhub.io/api/news?id=2b659a32e8b2dc92da76cf41f428202fad2848eff7d91ba72bc362994e517352'}, {'summary': 'Why We Targeted Magnificent Seven Stocks As Market Breadth Weakened: Why We Targeted Magnificent Seven Stocks As Market Breadth Weakened', 'url': 'https://finnhub.io/api/news?id=a9f40391d5492a1f8a5ea0a21d7604f2b39dd3d5a5b23e0092347eb226212391'}, {'summary': 'Apple Plans Thinner, Foldable iPhones to Revive Growth: The iPhone business, which accounts for around half of Apple’s overall revenue, is in a sales slump following years of mostly incremental upgrades to its devices.', 'url': 'https://finnhub.io/api/news?id=432127839019651c9c5ec9eae37791b23dcf6e930f976cc63e80db63ddf08592'}, {'summary': 'Meet the 3 Supercharged Growth Stocks Poised to Hit $4 Trillion by 2025, According to a Certain Wall Street Analyst: The race is on to be the first company with a $4 trillion market cap. One Wall Street analyst believes investors should look at the big picture.', 'url': 'https://finnhub.io/api/news?id=6cc48320dbcf4ae8a090d364e6c3c66a2badda8b0dbfd1b232511b2eb8acc6b2'}, {'summary': 'Pioneer Mid Cap Value Fund Q3 2024 Performance And Market Commentary: For the third quarter, mid-cap value stocks, as measured by the Portfolioâ\\x80\\x99s benchmark, the RLV, outperformed the SPX, returning 10.08% versus 5.78%, respectively.', 'url': 'https://finnhub.io/api/news?id=83cfacfb4579a855fd06d593e71e08d2f068a89833c497e65e388d71c7acef61'}]\n"
     ]
    }
   ],
   "source": [
    "print(mapped_news)"
   ]
  },
  {
   "cell_type": "code",
   "execution_count": null,
   "metadata": {},
   "outputs": [],
   "source": []
  }
 ],
 "metadata": {
  "kernelspec": {
   "display_name": "capstone_ai_trading_bots-ImcEFSTR",
   "language": "python",
   "name": "python3"
  },
  "language_info": {
   "codemirror_mode": {
    "name": "ipython",
    "version": 3
   },
   "file_extension": ".py",
   "mimetype": "text/x-python",
   "name": "python",
   "nbconvert_exporter": "python",
   "pygments_lexer": "ipython3",
   "version": "3.13.1"
  }
 },
 "nbformat": 4,
 "nbformat_minor": 2
}
