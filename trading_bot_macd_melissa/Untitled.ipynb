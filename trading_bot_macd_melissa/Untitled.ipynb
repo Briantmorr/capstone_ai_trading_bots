{
 "cells": [
  {
   "cell_type": "code",
   "execution_count": 1,
   "id": "8a77426c-6faa-4562-afa4-29796fe89a2a",
   "metadata": {},
   "outputs": [],
   "source": [
    "import datetime as dt\n",
    "import pandas as pd\n",
    "import numpy as np\n",
    "import matplotlib.pyplot as plt\n",
    "import tensorflow as tf\n",
    "from tensorflow import keras\n",
    "from tensorflow.keras.models import Sequential\n",
    "from tensorflow.keras.layers import Dense, LSTM, Dropout\n",
    "from sklearn.preprocessing import MinMaxScaler\n",
    "from sklearn.metrics import mean_absolute_error, mean_squared_error, accuracy_score, precision_score, recall_score, f1_score\n",
    "from alpaca.data.requests import StockBarsRequest\n",
    "from alpaca.data.timeframe import TimeFrame\n",
    "from alpaca.data.historical import StockHistoricalDataClient\n",
    "from alpaca.trading.client import TradingClient\n",
    "from alpaca.trading.requests import MarketOrderRequest\n",
    "from alpaca.trading.enums import OrderSide, TimeInForce\n"
   ]
  },
  {
   "cell_type": "code",
   "execution_count": 2,
   "id": "be3f7085-22be-4ff0-92f8-242dbad2f79c",
   "metadata": {},
   "outputs": [],
   "source": [
    "# Alpaca API credentials\n",
    "api_key = \"PK2DSD4BN8QNOYWSC5I1\"\n",
    "secret_key = \"eGSHvlwHLcuf24k0cTKXDPYFMjs3n1per4SsAys8\""
   ]
  },
  {
   "cell_type": "code",
   "execution_count": 3,
   "id": "e9c398ec-7beb-4ee8-9f71-37e04876b878",
   "metadata": {},
   "outputs": [],
   "source": [
    "client = StockHistoricalDataClient(api_key, secret_key)\n",
    "trading_client = TradingClient(api_key, secret_key, paper=True)"
   ]
  },
  {
   "cell_type": "code",
   "execution_count": 4,
   "id": "f0b3469a-0add-44cb-b43f-7fb225cbc43f",
   "metadata": {},
   "outputs": [],
   "source": [
    "def compute_macd(data, fast=12, slow=26, signal=9):\n",
    "    data['ema_fast'] = data['close'].ewm(span=fast, adjust=False).mean()\n",
    "    data['ema_slow'] = data['close'].ewm(span=slow, adjust=False).mean()\n",
    "    data['macd'] = data['ema_fast'] - data['ema_slow']\n",
    "    data['signal'] = data['macd'].ewm(span=signal, adjust=False).mean()\n",
    "    data['histogram'] = data['macd'] - data['signal']\n",
    "    return data"
   ]
  },
  {
   "cell_type": "code",
   "execution_count": 5,
   "id": "c1a6c11e-b1ed-4906-a4a0-acb83faf8504",
   "metadata": {},
   "outputs": [],
   "source": [
    "# Fetch historical stock data for MAG6\n",
    "symbols = [\"AAPL\", \"GOOGL\", \"AMZN\", \"META\", \"MSFT\", \"NVDA\"]\n",
    "start_date = dt.datetime.now() - dt.timedelta(days=365)\n",
    "end_date = dt.datetime.now()\n",
    "\n",
    "request_params = StockBarsRequest(\n",
    "    symbol_or_symbols=symbols,\n",
    "    timeframe=TimeFrame.Day,\n",
    "    start=start_date,\n",
    "    end=end_date\n",
    ")\n",
    "\n",
    "bars = client.get_stock_bars(request_params).df\n",
    "stock_dic = {}\n",
    "scaler = MinMaxScaler(feature_range=(0, 1))\n",
    "\n",
    "for symbol in symbols:\n",
    "    df = bars[bars.index.get_level_values(0) == symbol].copy()\n",
    "    df.reset_index(inplace=True)\n",
    "    df['timestamp'] = pd.to_datetime(df['timestamp'])\n",
    "    df.set_index('timestamp', inplace=True)\n",
    "    df = compute_macd(df)\n",
    "    df[['close', 'macd', 'signal']] = scaler.fit_transform(df[['close', 'macd', 'signal']])\n",
    "    stock_dic[symbol] = df"
   ]
  },
  {
   "cell_type": "code",
   "execution_count": 6,
   "id": "4d2e70c9-6525-4211-9c4d-4fe943aa6b19",
   "metadata": {},
   "outputs": [
    {
     "ename": "NameError",
     "evalue": "name 'create_sequences' is not defined",
     "output_type": "error",
     "traceback": [
      "\u001b[1;31m---------------------------------------------------------------------------\u001b[0m",
      "\u001b[1;31mNameError\u001b[0m                                 Traceback (most recent call last)",
      "Cell \u001b[1;32mIn[6], line 8\u001b[0m\n\u001b[0;32m      6\u001b[0m \u001b[38;5;28;01mfor\u001b[39;00m symbol \u001b[38;5;129;01min\u001b[39;00m symbols:\n\u001b[0;32m      7\u001b[0m     test_data \u001b[38;5;241m=\u001b[39m stock_dic[symbol][[\u001b[38;5;124m'\u001b[39m\u001b[38;5;124mclose\u001b[39m\u001b[38;5;124m'\u001b[39m, \u001b[38;5;124m'\u001b[39m\u001b[38;5;124mmacd\u001b[39m\u001b[38;5;124m'\u001b[39m, \u001b[38;5;124m'\u001b[39m\u001b[38;5;124msignal\u001b[39m\u001b[38;5;124m'\u001b[39m]]\u001b[38;5;241m.\u001b[39mvalues\n\u001b[1;32m----> 8\u001b[0m     X_test, y_test \u001b[38;5;241m=\u001b[39m \u001b[43mcreate_sequences\u001b[49m(test_data)\n\u001b[0;32m      9\u001b[0m     pred \u001b[38;5;241m=\u001b[39m model\u001b[38;5;241m.\u001b[39mpredict(X_test)\n\u001b[0;32m     10\u001b[0m     predictions[symbol] \u001b[38;5;241m=\u001b[39m pred\n",
      "\u001b[1;31mNameError\u001b[0m: name 'create_sequences' is not defined"
     ]
    }
   ],
   "source": [
    "# Predict future prices and execute trades\n",
    "predictions = {}\n",
    "capital = 10000  # Example starting capital\n",
    "position_size = 0.1  # Allocate 10% of capital per trade\n",
    "\n",
    "for symbol in symbols:\n",
    "    test_data = stock_dic[symbol][['close', 'macd', 'signal']].values\n",
    "    X_test, y_test = create_sequences(test_data)\n",
    "    pred = model.predict(X_test)\n",
    "    predictions[symbol] = pred\n",
    "    \n",
    "    last_actual_price = stock_dic[symbol]['close'].iloc[-1]\n",
    "    last_predicted_price = pred[-1][0]\n",
    "    \n",
    "    qty = int((capital * position_size) / last_actual_price)  # Determine quantity\n",
    "    \n",
    "    if last_predicted_price > last_actual_price and qty > 0:  # Buy condition\n",
    "        order = MarketOrderRequest(\n",
    "            symbol=symbol,\n",
    "            qty=qty,\n",
    "            side=OrderSide.BUY,\n",
    "            time_in_force=TimeInForce.GTC\n",
    "        )\n",
    "        trading_client.submit_order(order)\n",
    "        print(f\"BUY Order placed for {symbol}: {qty} shares\")\n",
    "    elif last_predicted_price < last_actual_price and qty > 0:  # Sell condition\n",
    "        order = MarketOrderRequest(\n",
    "            symbol=symbol,\n",
    "            qty=qty,\n",
    "            side=OrderSide.SELL,\n",
    "            time_in_force=TimeInForce.GTC\n",
    "        )\n",
    "        trading_client.submit_order(order)\n",
    "        print(f\"SELL Order placed for {symbol}: {qty} shares\")\n",
    "\n",
    "# Print trade results\n",
    "print(\"Trading bot executed based on LSTM predictions and MACD analysis.\")\n"
   ]
  },
  {
   "cell_type": "code",
   "execution_count": null,
   "id": "5129f926-0638-4310-b101-e4771be141e2",
   "metadata": {},
   "outputs": [],
   "source": []
  }
 ],
 "metadata": {
  "kernelspec": {
   "display_name": "Python 3 (ipykernel)",
   "language": "python",
   "name": "python3"
  },
  "language_info": {
   "codemirror_mode": {
    "name": "ipython",
    "version": 3
   },
   "file_extension": ".py",
   "mimetype": "text/x-python",
   "name": "python",
   "nbconvert_exporter": "python",
   "pygments_lexer": "ipython3",
   "version": "3.9.21"
  }
 },
 "nbformat": 4,
 "nbformat_minor": 5
}
