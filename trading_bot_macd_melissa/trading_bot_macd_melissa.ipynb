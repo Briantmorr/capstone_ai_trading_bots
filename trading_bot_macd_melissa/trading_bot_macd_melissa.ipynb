{
 "cells": [
  {
   "cell_type": "code",
   "execution_count": 1,
   "id": "ce46fc5b-fd76-452c-acb8-0c65baee05db",
   "metadata": {},
   "outputs": [],
   "source": [
    "import datetime as dt\n",
    "import pandas as pd\n",
    "import numpy as np\n",
    "import matplotlib.pyplot as plt\n",
    "import tensorflow as tf\n",
    "from tensorflow import keras\n",
    "from tensorflow.keras.models import Sequential\n",
    "from tensorflow.keras.layers import Dense, LSTM, Dropout\n",
    "from sklearn.preprocessing import MinMaxScaler\n",
    "from sklearn.metrics import mean_absolute_error, mean_squared_error, accuracy_score, precision_score, recall_score, f1_score\n",
    "from alpaca.data.requests import StockBarsRequest\n",
    "from alpaca.data.timeframe import TimeFrame\n",
    "from alpaca.data.historical import StockHistoricalDataClient\n",
    "from alpaca.trading.client import TradingClient\n",
    "from alpaca.trading.requests import MarketOrderRequest\n",
    "from alpaca.trading.enums import OrderSide, TimeInForce\n"
   ]
  },
  {
   "cell_type": "code",
   "execution_count": 2,
   "id": "c9451208-aa80-45b4-9341-eabe64217509",
   "metadata": {},
   "outputs": [],
   "source": [
    "# Alpaca API credentials\n",
    "api_key = \"PK2DSD4BN8QNOYWSC5I1\"\n",
    "secret_key = \"eGSHvlwHLcuf24k0cTKXDPYFMjs3n1per4SsAys8\""
   ]
  },
  {
   "cell_type": "code",
   "execution_count": 3,
   "id": "b8e90eb9-6dad-49da-b3e3-1270d5d71a0c",
   "metadata": {},
   "outputs": [],
   "source": [
    "client = StockHistoricalDataClient(api_key, secret_key)\n",
    "trading_client = TradingClient(api_key, secret_key, paper=True)"
   ]
  },
  {
   "cell_type": "code",
   "execution_count": 4,
   "id": "b0e67e93-5764-4009-904f-927b06efa0ad",
   "metadata": {},
   "outputs": [],
   "source": [
    "def compute_macd(data, fast=12, slow=26, signal=9):\n",
    "    data['ema_fast'] = data['close'].ewm(span=fast, adjust=False).mean()\n",
    "    data['ema_slow'] = data['close'].ewm(span=slow, adjust=False).mean()\n",
    "    data['macd'] = data['ema_fast'] - data['ema_slow']\n",
    "    data['signal'] = data['macd'].ewm(span=signal, adjust=False).mean()\n",
    "    data['histogram'] = data['macd'] - data['signal']\n",
    "    return data"
   ]
  },
  {
   "cell_type": "code",
   "execution_count": 5,
   "id": "9a8f79f3-40da-426c-8900-e9888ad149c1",
   "metadata": {},
   "outputs": [],
   "source": [
    "# Fetch historical stock data for MAG6\n",
    "symbols = [\"AAPL\", \"GOOGL\", \"AMZN\", \"META\", \"MSFT\", \"NVDA\"]\n",
    "start_date = dt.datetime.now() - dt.timedelta(days=365)\n",
    "end_date = dt.datetime.now()\n",
    "\n",
    "request_params = StockBarsRequest(\n",
    "    symbol_or_symbols=symbols,\n",
    "    timeframe=TimeFrame.Day,\n",
    "    start=start_date,\n",
    "    end=end_date\n",
    ")\n",
    "\n",
    "bars = client.get_stock_bars(request_params).df\n",
    "stock_dic = {}\n",
    "scaler = MinMaxScaler(feature_range=(0, 1))\n",
    "\n",
    "for symbol in symbols:\n",
    "    df = bars[bars.index.get_level_values(0) == symbol].copy()\n",
    "    df.reset_index(inplace=True)\n",
    "    df['timestamp'] = pd.to_datetime(df['timestamp'])\n",
    "    df.set_index('timestamp', inplace=True)\n",
    "    df = compute_macd(df)\n",
    "    df[['close', 'macd', 'signal']] = scaler.fit_transform(df[['close', 'macd', 'signal']])\n",
    "    stock_dic[symbol] = df"
   ]
  },
  {
   "cell_type": "code",
   "execution_count": 6,
   "id": "edf1e76e-da2d-40df-aaa7-8804d43aedb3",
   "metadata": {},
   "outputs": [
    {
     "name": "stdout",
     "output_type": "stream",
     "text": [
      "Epoch 1/10\n"
     ]
    },
    {
     "name": "stderr",
     "output_type": "stream",
     "text": [
      "C:\\Users\\sassy\\anaconda3\\envs\\tf_env\\lib\\site-packages\\keras\\src\\layers\\rnn\\rnn.py:200: UserWarning: Do not pass an `input_shape`/`input_dim` argument to a layer. When using Sequential models, prefer using an `Input(shape)` object as the first layer in the model instead.\n",
      "  super().__init__(**kwargs)\n"
     ]
    },
    {
     "name": "stdout",
     "output_type": "stream",
     "text": [
      "\u001b[1m75/75\u001b[0m \u001b[32m━━━━━━━━━━━━━━━━━━━━\u001b[0m\u001b[37m\u001b[0m \u001b[1m4s\u001b[0m 26ms/step - loss: 0.0811\n",
      "Epoch 2/10\n",
      "\u001b[1m75/75\u001b[0m \u001b[32m━━━━━━━━━━━━━━━━━━━━\u001b[0m\u001b[37m\u001b[0m \u001b[1m2s\u001b[0m 26ms/step - loss: 0.0150\n",
      "Epoch 3/10\n",
      "\u001b[1m75/75\u001b[0m \u001b[32m━━━━━━━━━━━━━━━━━━━━\u001b[0m\u001b[37m\u001b[0m \u001b[1m2s\u001b[0m 26ms/step - loss: 0.0121\n",
      "Epoch 4/10\n",
      "\u001b[1m75/75\u001b[0m \u001b[32m━━━━━━━━━━━━━━━━━━━━\u001b[0m\u001b[37m\u001b[0m \u001b[1m2s\u001b[0m 25ms/step - loss: 0.0106\n",
      "Epoch 5/10\n",
      "\u001b[1m75/75\u001b[0m \u001b[32m━━━━━━━━━━━━━━━━━━━━\u001b[0m\u001b[37m\u001b[0m \u001b[1m2s\u001b[0m 26ms/step - loss: 0.0098\n",
      "Epoch 6/10\n",
      "\u001b[1m75/75\u001b[0m \u001b[32m━━━━━━━━━━━━━━━━━━━━\u001b[0m\u001b[37m\u001b[0m \u001b[1m2s\u001b[0m 26ms/step - loss: 0.0087\n",
      "Epoch 7/10\n",
      "\u001b[1m75/75\u001b[0m \u001b[32m━━━━━━━━━━━━━━━━━━━━\u001b[0m\u001b[37m\u001b[0m \u001b[1m2s\u001b[0m 26ms/step - loss: 0.0084\n",
      "Epoch 8/10\n",
      "\u001b[1m75/75\u001b[0m \u001b[32m━━━━━━━━━━━━━━━━━━━━\u001b[0m\u001b[37m\u001b[0m \u001b[1m2s\u001b[0m 26ms/step - loss: 0.0078\n",
      "Epoch 9/10\n",
      "\u001b[1m75/75\u001b[0m \u001b[32m━━━━━━━━━━━━━━━━━━━━\u001b[0m\u001b[37m\u001b[0m \u001b[1m2s\u001b[0m 26ms/step - loss: 0.0071\n",
      "Epoch 10/10\n",
      "\u001b[1m75/75\u001b[0m \u001b[32m━━━━━━━━━━━━━━━━━━━━\u001b[0m\u001b[37m\u001b[0m \u001b[1m2s\u001b[0m 26ms/step - loss: 0.0065\n"
     ]
    },
    {
     "data": {
      "text/plain": [
       "<keras.src.callbacks.history.History at 0x22665d5ddf0>"
      ]
     },
     "execution_count": 6,
     "metadata": {},
     "output_type": "execute_result"
    }
   ],
   "source": [
    "# Prepare dataset for LSTM\n",
    "sequence_length = 50  # Use past 50 days for prediction\n",
    "\n",
    "def create_sequences(data):\n",
    "    X, y = [], []\n",
    "    for i in range(len(data) - sequence_length):\n",
    "        X.append(data[i:i + sequence_length])\n",
    "        y.append(data[i + sequence_length, 0])  # Predicting closing price\n",
    "    return np.array(X), np.array(y)\n",
    "\n",
    "X_train, y_train = [], []\n",
    "for symbol in symbols:\n",
    "    train_data = stock_dic[symbol][['close', 'macd', 'signal']].values\n",
    "    X, y = create_sequences(train_data)\n",
    "    X_train.append(X)\n",
    "    y_train.append(y)\n",
    "\n",
    "X_train = np.concatenate(X_train, axis=0)\n",
    "y_train = np.concatenate(y_train, axis=0).reshape(-1, 1)  # Ensure y_train is 2D\n",
    "\n",
    "# Build LSTM model\n",
    "model = Sequential([\n",
    "    LSTM(50, return_sequences=True, input_shape=(sequence_length, 3)),\n",
    "    Dropout(0.2),\n",
    "    LSTM(50, return_sequences=False),\n",
    "    Dropout(0.2),\n",
    "    Dense(25, activation='relu'),\n",
    "    Dense(1)\n",
    "])\n",
    "\n",
    "model.compile(optimizer='adam', loss='mean_squared_error')\n",
    "model.fit(X_train, y_train, epochs=10, batch_size=16)"
   ]
  },
  {
   "cell_type": "code",
   "execution_count": 7,
   "id": "14fcf690-3604-44b8-9068-2e72c3cf62f6",
   "metadata": {},
   "outputs": [
    {
     "name": "stdout",
     "output_type": "stream",
     "text": [
      "\u001b[1m7/7\u001b[0m \u001b[32m━━━━━━━━━━━━━━━━━━━━\u001b[0m\u001b[37m\u001b[0m \u001b[1m1s\u001b[0m 60ms/step \n",
      "BUY Order placed for AAPL\n",
      "\u001b[1m7/7\u001b[0m \u001b[32m━━━━━━━━━━━━━━━━━━━━\u001b[0m\u001b[37m\u001b[0m \u001b[1m0s\u001b[0m 23ms/step\n",
      "BUY Order placed for GOOGL\n",
      "\u001b[1m7/7\u001b[0m \u001b[32m━━━━━━━━━━━━━━━━━━━━\u001b[0m\u001b[37m\u001b[0m \u001b[1m0s\u001b[0m 21ms/step\n",
      "BUY Order placed for AMZN\n",
      "\u001b[1m7/7\u001b[0m \u001b[32m━━━━━━━━━━━━━━━━━━━━\u001b[0m\u001b[37m\u001b[0m \u001b[1m0s\u001b[0m 21ms/step\n",
      "BUY Order placed for META\n",
      "\u001b[1m7/7\u001b[0m \u001b[32m━━━━━━━━━━━━━━━━━━━━\u001b[0m\u001b[37m\u001b[0m \u001b[1m0s\u001b[0m 22ms/step\n",
      "BUY Order placed for MSFT\n",
      "\u001b[1m7/7\u001b[0m \u001b[32m━━━━━━━━━━━━━━━━━━━━\u001b[0m\u001b[37m\u001b[0m \u001b[1m0s\u001b[0m 21ms/step\n",
      "BUY Order placed for NVDA\n",
      "Trading bot executed based on LSTM predictions and MACD analysis.\n"
     ]
    }
   ],
   "source": [
    "# Predict future prices and execute trades\n",
    "predictions = {}\n",
    "for symbol in symbols:\n",
    "    test_data = stock_dic[symbol][['close', 'macd', 'signal']].values\n",
    "    X_test, y_test = create_sequences(test_data)\n",
    "    pred = model.predict(X_test)\n",
    "    predictions[symbol] = pred\n",
    "    \n",
    "    last_actual_price = stock_dic[symbol]['close'].iloc[-1]\n",
    "    last_predicted_price = pred[-1][0]\n",
    "    \n",
    "    if last_predicted_price > last_actual_price:  # Buy condition\n",
    "        order = MarketOrderRequest(\n",
    "            symbol=symbol,\n",
    "            qty=1,\n",
    "            side=OrderSide.BUY,\n",
    "            time_in_force=TimeInForce.GTC\n",
    "        )\n",
    "        trading_client.submit_order(order)\n",
    "        print(f\"BUY Order placed for {symbol}\")\n",
    "    elif last_predicted_price < last_actual_price:  # Sell condition\n",
    "        order = MarketOrderRequest(\n",
    "            symbol=symbol,\n",
    "            qty=1,\n",
    "            side=OrderSide.SELL,\n",
    "            time_in_force=TimeInForce.GTC\n",
    "        )\n",
    "        trading_client.submit_order(order)\n",
    "        print(f\"SELL Order placed for {symbol}\")\n",
    "\n",
    "# Print trade results\n",
    "print(\"Trading bot executed based on LSTM predictions and MACD analysis.\")\n"
   ]
  },
  {
   "cell_type": "code",
   "execution_count": null,
   "id": "303e2ee9-073c-445a-8563-e81f039f767e",
   "metadata": {},
   "outputs": [],
   "source": []
  }
 ],
 "metadata": {
  "kernelspec": {
   "display_name": "Python 3 (ipykernel)",
   "language": "python",
   "name": "python3"
  },
  "language_info": {
   "codemirror_mode": {
    "name": "ipython",
    "version": 3
   },
   "file_extension": ".py",
   "mimetype": "text/x-python",
   "name": "python",
   "nbconvert_exporter": "python",
   "pygments_lexer": "ipython3",
   "version": "3.12.9"
  }
 },
 "nbformat": 4,
 "nbformat_minor": 5
}
